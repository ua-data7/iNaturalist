{
 "cells": [
  {
   "cell_type": "code",
   "execution_count": 7,
   "metadata": {},
   "outputs": [],
   "source": [
    "import pandas as pd\n",
    "import dask.dataframe as dd\n",
    "import img2dataset\n",
    "import os, sys\n",
    "from tqdm import tqdm\n",
    "import shutil"
   ]
  },
  {
   "cell_type": "code",
   "execution_count": 8,
   "metadata": {},
   "outputs": [],
   "source": [
    "shutil.rmtree('/Users/personal-macbook/Documents/projects/inaturalist/data/48460')"
   ]
  },
  {
   "cell_type": "code",
   "execution_count": 146,
   "metadata": {},
   "outputs": [
    {
     "data": {
      "text/html": [
       "<div>\n",
       "<style scoped>\n",
       "    .dataframe tbody tr th:only-of-type {\n",
       "        vertical-align: middle;\n",
       "    }\n",
       "\n",
       "    .dataframe tbody tr th {\n",
       "        vertical-align: top;\n",
       "    }\n",
       "\n",
       "    .dataframe thead th {\n",
       "        text-align: right;\n",
       "    }\n",
       "</style>\n",
       "<table border=\"1\" class=\"dataframe\">\n",
       "  <thead>\n",
       "    <tr style=\"text-align: right;\">\n",
       "      <th></th>\n",
       "      <th>csv_list</th>\n",
       "      <th>downloaded</th>\n",
       "    </tr>\n",
       "    <tr>\n",
       "      <th>index</th>\n",
       "      <th></th>\n",
       "      <th></th>\n",
       "    </tr>\n",
       "  </thead>\n",
       "  <tbody>\n",
       "    <tr>\n",
       "      <th>0</th>\n",
       "      <td>species_csv/Polybiomyia schwarzi.csv</td>\n",
       "      <td>False</td>\n",
       "    </tr>\n",
       "    <tr>\n",
       "      <th>1</th>\n",
       "      <td>species_csv/Omorgus melancholicus.csv</td>\n",
       "      <td>False</td>\n",
       "    </tr>\n",
       "    <tr>\n",
       "      <th>2</th>\n",
       "      <td>species_csv/Neozirta eidmanni.csv</td>\n",
       "      <td>False</td>\n",
       "    </tr>\n",
       "    <tr>\n",
       "      <th>3</th>\n",
       "      <td>species_csv/Hierodula purpurescens.csv</td>\n",
       "      <td>False</td>\n",
       "    </tr>\n",
       "    <tr>\n",
       "      <th>4</th>\n",
       "      <td>species_csv/Euthycera chaerophylli.csv</td>\n",
       "      <td>False</td>\n",
       "    </tr>\n",
       "    <tr>\n",
       "      <th>...</th>\n",
       "      <td>...</td>\n",
       "      <td>...</td>\n",
       "    </tr>\n",
       "    <tr>\n",
       "      <th>95394</th>\n",
       "      <td>species_csv/Stichopogon elegantulus.csv</td>\n",
       "      <td>False</td>\n",
       "    </tr>\n",
       "    <tr>\n",
       "      <th>95395</th>\n",
       "      <td>species_csv/Aerenicopsis championi.csv</td>\n",
       "      <td>False</td>\n",
       "    </tr>\n",
       "    <tr>\n",
       "      <th>95396</th>\n",
       "      <td>species_csv/Gonatista reticulata.csv</td>\n",
       "      <td>False</td>\n",
       "    </tr>\n",
       "    <tr>\n",
       "      <th>95397</th>\n",
       "      <td>species_csv/Achaea trapezoides.csv</td>\n",
       "      <td>False</td>\n",
       "    </tr>\n",
       "    <tr>\n",
       "      <th>95398</th>\n",
       "      <td>species_csv/Andricus longipennis.csv</td>\n",
       "      <td>False</td>\n",
       "    </tr>\n",
       "  </tbody>\n",
       "</table>\n",
       "<p>95399 rows × 2 columns</p>\n",
       "</div>"
      ],
      "text/plain": [
       "                                      csv_list  downloaded\n",
       "index                                                     \n",
       "0         species_csv/Polybiomyia schwarzi.csv       False\n",
       "1        species_csv/Omorgus melancholicus.csv       False\n",
       "2            species_csv/Neozirta eidmanni.csv       False\n",
       "3       species_csv/Hierodula purpurescens.csv       False\n",
       "4       species_csv/Euthycera chaerophylli.csv       False\n",
       "...                                        ...         ...\n",
       "95394  species_csv/Stichopogon elegantulus.csv       False\n",
       "95395   species_csv/Aerenicopsis championi.csv       False\n",
       "95396     species_csv/Gonatista reticulata.csv       False\n",
       "95397       species_csv/Achaea trapezoides.csv       False\n",
       "95398     species_csv/Andricus longipennis.csv       False\n",
       "\n",
       "[95399 rows x 2 columns]"
      ]
     },
     "execution_count": 146,
     "metadata": {},
     "output_type": "execute_result"
    }
   ],
   "source": [
    "csv_list = glob(f'species_csv/*.csv')\n",
    "\n",
    "# converting the list to pandas dataframe\n",
    "df = pd.DataFrame(csv_list, columns=['csv_list'])\n",
    "df['downloaded'] = False\n",
    "df.reset_index(inplace=True)\n",
    "\n",
    "# saving the dataframe as csv\n",
    "df.to_csv('csv_list.csv', index=False)\n",
    "df = pd.read_csv('csv_list.csv', index_col='index')\n",
    "df"
   ]
  },
  {
   "cell_type": "code",
   "execution_count": 142,
   "metadata": {},
   "outputs": [
    {
     "ename": "ValueError",
     "evalue": "Index index invalid",
     "output_type": "error",
     "traceback": [
      "\u001b[0;31m---------------------------------------------------------------------------\u001b[0m",
      "\u001b[0;31mValueError\u001b[0m                                Traceback (most recent call last)",
      "\u001b[1;32m/Users/personal-macbook/Documents/projects/inaturalist/view.ipynb Cell 3'\u001b[0m in \u001b[0;36m<cell line: 16>\u001b[0;34m()\u001b[0m\n\u001b[1;32m      <a href='vscode-notebook-cell:/Users/personal-macbook/Documents/projects/inaturalist/view.ipynb#ch0000001?line=2'>3</a>\u001b[0m csvs_dir \u001b[39m=\u001b[39m \u001b[39m'\u001b[39m\u001b[39m/Users/personal-macbook/Documents/projects/inaturalist/species_csv\u001b[39m\u001b[39m'\u001b[39m\n\u001b[1;32m      <a href='vscode-notebook-cell:/Users/personal-macbook/Documents/projects/inaturalist/view.ipynb#ch0000001?line=3'>4</a>\u001b[0m \u001b[39m# csv_list = glob(f'{csvs_dir}/*.csv')\u001b[39;00m\n\u001b[1;32m      <a href='vscode-notebook-cell:/Users/personal-macbook/Documents/projects/inaturalist/view.ipynb#ch0000001?line=4'>5</a>\u001b[0m \n\u001b[1;32m      <a href='vscode-notebook-cell:/Users/personal-macbook/Documents/projects/inaturalist/view.ipynb#ch0000001?line=5'>6</a>\u001b[0m \u001b[39m# df = pd.DataFrame(csv_list, columns=['csv_list'])\u001b[39;00m\n\u001b[0;32m   (...)\u001b[0m\n\u001b[1;32m     <a href='vscode-notebook-cell:/Users/personal-macbook/Documents/projects/inaturalist/view.ipynb#ch0000001?line=13'>14</a>\u001b[0m \n\u001b[1;32m     <a href='vscode-notebook-cell:/Users/personal-macbook/Documents/projects/inaturalist/view.ipynb#ch0000001?line=14'>15</a>\u001b[0m \u001b[39m#  convert df to sql database\u001b[39;00m\n\u001b[0;32m---> <a href='vscode-notebook-cell:/Users/personal-macbook/Documents/projects/inaturalist/view.ipynb#ch0000001?line=15'>16</a>\u001b[0m df \u001b[39m=\u001b[39m pd\u001b[39m.\u001b[39;49mread_csv(\u001b[39mf\u001b[39;49m\u001b[39m'\u001b[39;49m\u001b[39mcsv_list.csv\u001b[39;49m\u001b[39m'\u001b[39;49m, index_col\u001b[39m=\u001b[39;49m[\u001b[39m'\u001b[39;49m\u001b[39mindex\u001b[39;49m\u001b[39m'\u001b[39;49m])\n\u001b[1;32m     <a href='vscode-notebook-cell:/Users/personal-macbook/Documents/projects/inaturalist/view.ipynb#ch0000001?line=17'>18</a>\u001b[0m \u001b[39m# df.to_sql('csv_list_table', con=sql.connect(f'{csvs_dir}/sql_inaturalist_insects.db'), if_exists='replace')\u001b[39;00m\n\u001b[1;32m     <a href='vscode-notebook-cell:/Users/personal-macbook/Documents/projects/inaturalist/view.ipynb#ch0000001?line=18'>19</a>\u001b[0m df\n",
      "File \u001b[0;32m~/opt/anaconda3/envs/aws/lib/python3.8/site-packages/pandas/util/_decorators.py:311\u001b[0m, in \u001b[0;36mdeprecate_nonkeyword_arguments.<locals>.decorate.<locals>.wrapper\u001b[0;34m(*args, **kwargs)\u001b[0m\n\u001b[1;32m    <a href='file:///Users/personal-macbook/opt/anaconda3/envs/aws/lib/python3.8/site-packages/pandas/util/_decorators.py?line=304'>305</a>\u001b[0m \u001b[39mif\u001b[39;00m \u001b[39mlen\u001b[39m(args) \u001b[39m>\u001b[39m num_allow_args:\n\u001b[1;32m    <a href='file:///Users/personal-macbook/opt/anaconda3/envs/aws/lib/python3.8/site-packages/pandas/util/_decorators.py?line=305'>306</a>\u001b[0m     warnings\u001b[39m.\u001b[39mwarn(\n\u001b[1;32m    <a href='file:///Users/personal-macbook/opt/anaconda3/envs/aws/lib/python3.8/site-packages/pandas/util/_decorators.py?line=306'>307</a>\u001b[0m         msg\u001b[39m.\u001b[39mformat(arguments\u001b[39m=\u001b[39marguments),\n\u001b[1;32m    <a href='file:///Users/personal-macbook/opt/anaconda3/envs/aws/lib/python3.8/site-packages/pandas/util/_decorators.py?line=307'>308</a>\u001b[0m         \u001b[39mFutureWarning\u001b[39;00m,\n\u001b[1;32m    <a href='file:///Users/personal-macbook/opt/anaconda3/envs/aws/lib/python3.8/site-packages/pandas/util/_decorators.py?line=308'>309</a>\u001b[0m         stacklevel\u001b[39m=\u001b[39mstacklevel,\n\u001b[1;32m    <a href='file:///Users/personal-macbook/opt/anaconda3/envs/aws/lib/python3.8/site-packages/pandas/util/_decorators.py?line=309'>310</a>\u001b[0m     )\n\u001b[0;32m--> <a href='file:///Users/personal-macbook/opt/anaconda3/envs/aws/lib/python3.8/site-packages/pandas/util/_decorators.py?line=310'>311</a>\u001b[0m \u001b[39mreturn\u001b[39;00m func(\u001b[39m*\u001b[39;49margs, \u001b[39m*\u001b[39;49m\u001b[39m*\u001b[39;49mkwargs)\n",
      "File \u001b[0;32m~/opt/anaconda3/envs/aws/lib/python3.8/site-packages/pandas/io/parsers/readers.py:680\u001b[0m, in \u001b[0;36mread_csv\u001b[0;34m(filepath_or_buffer, sep, delimiter, header, names, index_col, usecols, squeeze, prefix, mangle_dupe_cols, dtype, engine, converters, true_values, false_values, skipinitialspace, skiprows, skipfooter, nrows, na_values, keep_default_na, na_filter, verbose, skip_blank_lines, parse_dates, infer_datetime_format, keep_date_col, date_parser, dayfirst, cache_dates, iterator, chunksize, compression, thousands, decimal, lineterminator, quotechar, quoting, doublequote, escapechar, comment, encoding, encoding_errors, dialect, error_bad_lines, warn_bad_lines, on_bad_lines, delim_whitespace, low_memory, memory_map, float_precision, storage_options)\u001b[0m\n\u001b[1;32m    <a href='file:///Users/personal-macbook/opt/anaconda3/envs/aws/lib/python3.8/site-packages/pandas/io/parsers/readers.py?line=664'>665</a>\u001b[0m kwds_defaults \u001b[39m=\u001b[39m _refine_defaults_read(\n\u001b[1;32m    <a href='file:///Users/personal-macbook/opt/anaconda3/envs/aws/lib/python3.8/site-packages/pandas/io/parsers/readers.py?line=665'>666</a>\u001b[0m     dialect,\n\u001b[1;32m    <a href='file:///Users/personal-macbook/opt/anaconda3/envs/aws/lib/python3.8/site-packages/pandas/io/parsers/readers.py?line=666'>667</a>\u001b[0m     delimiter,\n\u001b[0;32m   (...)\u001b[0m\n\u001b[1;32m    <a href='file:///Users/personal-macbook/opt/anaconda3/envs/aws/lib/python3.8/site-packages/pandas/io/parsers/readers.py?line=675'>676</a>\u001b[0m     defaults\u001b[39m=\u001b[39m{\u001b[39m\"\u001b[39m\u001b[39mdelimiter\u001b[39m\u001b[39m\"\u001b[39m: \u001b[39m\"\u001b[39m\u001b[39m,\u001b[39m\u001b[39m\"\u001b[39m},\n\u001b[1;32m    <a href='file:///Users/personal-macbook/opt/anaconda3/envs/aws/lib/python3.8/site-packages/pandas/io/parsers/readers.py?line=676'>677</a>\u001b[0m )\n\u001b[1;32m    <a href='file:///Users/personal-macbook/opt/anaconda3/envs/aws/lib/python3.8/site-packages/pandas/io/parsers/readers.py?line=677'>678</a>\u001b[0m kwds\u001b[39m.\u001b[39mupdate(kwds_defaults)\n\u001b[0;32m--> <a href='file:///Users/personal-macbook/opt/anaconda3/envs/aws/lib/python3.8/site-packages/pandas/io/parsers/readers.py?line=679'>680</a>\u001b[0m \u001b[39mreturn\u001b[39;00m _read(filepath_or_buffer, kwds)\n",
      "File \u001b[0;32m~/opt/anaconda3/envs/aws/lib/python3.8/site-packages/pandas/io/parsers/readers.py:581\u001b[0m, in \u001b[0;36m_read\u001b[0;34m(filepath_or_buffer, kwds)\u001b[0m\n\u001b[1;32m    <a href='file:///Users/personal-macbook/opt/anaconda3/envs/aws/lib/python3.8/site-packages/pandas/io/parsers/readers.py?line=577'>578</a>\u001b[0m     \u001b[39mreturn\u001b[39;00m parser\n\u001b[1;32m    <a href='file:///Users/personal-macbook/opt/anaconda3/envs/aws/lib/python3.8/site-packages/pandas/io/parsers/readers.py?line=579'>580</a>\u001b[0m \u001b[39mwith\u001b[39;00m parser:\n\u001b[0;32m--> <a href='file:///Users/personal-macbook/opt/anaconda3/envs/aws/lib/python3.8/site-packages/pandas/io/parsers/readers.py?line=580'>581</a>\u001b[0m     \u001b[39mreturn\u001b[39;00m parser\u001b[39m.\u001b[39;49mread(nrows)\n",
      "File \u001b[0;32m~/opt/anaconda3/envs/aws/lib/python3.8/site-packages/pandas/io/parsers/readers.py:1250\u001b[0m, in \u001b[0;36mTextFileReader.read\u001b[0;34m(self, nrows)\u001b[0m\n\u001b[1;32m   <a href='file:///Users/personal-macbook/opt/anaconda3/envs/aws/lib/python3.8/site-packages/pandas/io/parsers/readers.py?line=1247'>1248</a>\u001b[0m nrows \u001b[39m=\u001b[39m validate_integer(\u001b[39m\"\u001b[39m\u001b[39mnrows\u001b[39m\u001b[39m\"\u001b[39m, nrows)\n\u001b[1;32m   <a href='file:///Users/personal-macbook/opt/anaconda3/envs/aws/lib/python3.8/site-packages/pandas/io/parsers/readers.py?line=1248'>1249</a>\u001b[0m \u001b[39mtry\u001b[39;00m:\n\u001b[0;32m-> <a href='file:///Users/personal-macbook/opt/anaconda3/envs/aws/lib/python3.8/site-packages/pandas/io/parsers/readers.py?line=1249'>1250</a>\u001b[0m     index, columns, col_dict \u001b[39m=\u001b[39m \u001b[39mself\u001b[39;49m\u001b[39m.\u001b[39;49m_engine\u001b[39m.\u001b[39;49mread(nrows)\n\u001b[1;32m   <a href='file:///Users/personal-macbook/opt/anaconda3/envs/aws/lib/python3.8/site-packages/pandas/io/parsers/readers.py?line=1250'>1251</a>\u001b[0m \u001b[39mexcept\u001b[39;00m \u001b[39mException\u001b[39;00m:\n\u001b[1;32m   <a href='file:///Users/personal-macbook/opt/anaconda3/envs/aws/lib/python3.8/site-packages/pandas/io/parsers/readers.py?line=1251'>1252</a>\u001b[0m     \u001b[39mself\u001b[39m\u001b[39m.\u001b[39mclose()\n",
      "File \u001b[0;32m~/opt/anaconda3/envs/aws/lib/python3.8/site-packages/pandas/io/parsers/c_parser_wrapper.py:311\u001b[0m, in \u001b[0;36mCParserWrapper.read\u001b[0;34m(self, nrows)\u001b[0m\n\u001b[1;32m    <a href='file:///Users/personal-macbook/opt/anaconda3/envs/aws/lib/python3.8/site-packages/pandas/io/parsers/c_parser_wrapper.py?line=307'>308</a>\u001b[0m     data \u001b[39m=\u001b[39m {k: v \u001b[39mfor\u001b[39;00m k, (i, v) \u001b[39min\u001b[39;00m \u001b[39mzip\u001b[39m(names, data_tups)}\n\u001b[1;32m    <a href='file:///Users/personal-macbook/opt/anaconda3/envs/aws/lib/python3.8/site-packages/pandas/io/parsers/c_parser_wrapper.py?line=309'>310</a>\u001b[0m     names, date_data \u001b[39m=\u001b[39m \u001b[39mself\u001b[39m\u001b[39m.\u001b[39m_do_date_conversions(names, data)\n\u001b[0;32m--> <a href='file:///Users/personal-macbook/opt/anaconda3/envs/aws/lib/python3.8/site-packages/pandas/io/parsers/c_parser_wrapper.py?line=310'>311</a>\u001b[0m     index, names \u001b[39m=\u001b[39m \u001b[39mself\u001b[39;49m\u001b[39m.\u001b[39;49m_make_index(date_data, alldata, names)\n\u001b[1;32m    <a href='file:///Users/personal-macbook/opt/anaconda3/envs/aws/lib/python3.8/site-packages/pandas/io/parsers/c_parser_wrapper.py?line=312'>313</a>\u001b[0m \u001b[39m# maybe create a mi on the columns\u001b[39;00m\n\u001b[1;32m    <a href='file:///Users/personal-macbook/opt/anaconda3/envs/aws/lib/python3.8/site-packages/pandas/io/parsers/c_parser_wrapper.py?line=313'>314</a>\u001b[0m conv_names \u001b[39m=\u001b[39m \u001b[39mself\u001b[39m\u001b[39m.\u001b[39m_maybe_make_multi_index_columns(names, \u001b[39mself\u001b[39m\u001b[39m.\u001b[39mcol_names)\n",
      "File \u001b[0;32m~/opt/anaconda3/envs/aws/lib/python3.8/site-packages/pandas/io/parsers/base_parser.py:389\u001b[0m, in \u001b[0;36mParserBase._make_index\u001b[0;34m(self, data, alldata, columns, indexnamerow)\u001b[0m\n\u001b[1;32m    <a href='file:///Users/personal-macbook/opt/anaconda3/envs/aws/lib/python3.8/site-packages/pandas/io/parsers/base_parser.py?line=385'>386</a>\u001b[0m     index \u001b[39m=\u001b[39m \u001b[39mNone\u001b[39;00m\n\u001b[1;32m    <a href='file:///Users/personal-macbook/opt/anaconda3/envs/aws/lib/python3.8/site-packages/pandas/io/parsers/base_parser.py?line=387'>388</a>\u001b[0m \u001b[39melif\u001b[39;00m \u001b[39mnot\u001b[39;00m \u001b[39mself\u001b[39m\u001b[39m.\u001b[39m_has_complex_date_col:\n\u001b[0;32m--> <a href='file:///Users/personal-macbook/opt/anaconda3/envs/aws/lib/python3.8/site-packages/pandas/io/parsers/base_parser.py?line=388'>389</a>\u001b[0m     index \u001b[39m=\u001b[39m \u001b[39mself\u001b[39;49m\u001b[39m.\u001b[39;49m_get_simple_index(alldata, columns)\n\u001b[1;32m    <a href='file:///Users/personal-macbook/opt/anaconda3/envs/aws/lib/python3.8/site-packages/pandas/io/parsers/base_parser.py?line=389'>390</a>\u001b[0m     index \u001b[39m=\u001b[39m \u001b[39mself\u001b[39m\u001b[39m.\u001b[39m_agg_index(index)\n\u001b[1;32m    <a href='file:///Users/personal-macbook/opt/anaconda3/envs/aws/lib/python3.8/site-packages/pandas/io/parsers/base_parser.py?line=390'>391</a>\u001b[0m \u001b[39melif\u001b[39;00m \u001b[39mself\u001b[39m\u001b[39m.\u001b[39m_has_complex_date_col:\n",
      "File \u001b[0;32m~/opt/anaconda3/envs/aws/lib/python3.8/site-packages/pandas/io/parsers/base_parser.py:421\u001b[0m, in \u001b[0;36mParserBase._get_simple_index\u001b[0;34m(self, data, columns)\u001b[0m\n\u001b[1;32m    <a href='file:///Users/personal-macbook/opt/anaconda3/envs/aws/lib/python3.8/site-packages/pandas/io/parsers/base_parser.py?line=418'>419</a>\u001b[0m index \u001b[39m=\u001b[39m []\n\u001b[1;32m    <a href='file:///Users/personal-macbook/opt/anaconda3/envs/aws/lib/python3.8/site-packages/pandas/io/parsers/base_parser.py?line=419'>420</a>\u001b[0m \u001b[39mfor\u001b[39;00m idx \u001b[39min\u001b[39;00m \u001b[39mself\u001b[39m\u001b[39m.\u001b[39mindex_col:\n\u001b[0;32m--> <a href='file:///Users/personal-macbook/opt/anaconda3/envs/aws/lib/python3.8/site-packages/pandas/io/parsers/base_parser.py?line=420'>421</a>\u001b[0m     i \u001b[39m=\u001b[39m ix(idx)\n\u001b[1;32m    <a href='file:///Users/personal-macbook/opt/anaconda3/envs/aws/lib/python3.8/site-packages/pandas/io/parsers/base_parser.py?line=421'>422</a>\u001b[0m     to_remove\u001b[39m.\u001b[39mappend(i)\n\u001b[1;32m    <a href='file:///Users/personal-macbook/opt/anaconda3/envs/aws/lib/python3.8/site-packages/pandas/io/parsers/base_parser.py?line=422'>423</a>\u001b[0m     index\u001b[39m.\u001b[39mappend(data[i])\n",
      "File \u001b[0;32m~/opt/anaconda3/envs/aws/lib/python3.8/site-packages/pandas/io/parsers/base_parser.py:416\u001b[0m, in \u001b[0;36mParserBase._get_simple_index.<locals>.ix\u001b[0;34m(col)\u001b[0m\n\u001b[1;32m    <a href='file:///Users/personal-macbook/opt/anaconda3/envs/aws/lib/python3.8/site-packages/pandas/io/parsers/base_parser.py?line=413'>414</a>\u001b[0m \u001b[39mif\u001b[39;00m \u001b[39mnot\u001b[39;00m \u001b[39misinstance\u001b[39m(col, \u001b[39mstr\u001b[39m):\n\u001b[1;32m    <a href='file:///Users/personal-macbook/opt/anaconda3/envs/aws/lib/python3.8/site-packages/pandas/io/parsers/base_parser.py?line=414'>415</a>\u001b[0m     \u001b[39mreturn\u001b[39;00m col\n\u001b[0;32m--> <a href='file:///Users/personal-macbook/opt/anaconda3/envs/aws/lib/python3.8/site-packages/pandas/io/parsers/base_parser.py?line=415'>416</a>\u001b[0m \u001b[39mraise\u001b[39;00m \u001b[39mValueError\u001b[39;00m(\u001b[39mf\u001b[39m\u001b[39m\"\u001b[39m\u001b[39mIndex \u001b[39m\u001b[39m{\u001b[39;00mcol\u001b[39m}\u001b[39;00m\u001b[39m invalid\u001b[39m\u001b[39m\"\u001b[39m)\n",
      "\u001b[0;31mValueError\u001b[0m: Index index invalid"
     ]
    }
   ],
   "source": [
    "\n",
    "import sqlite3 as sql\n",
    "\n",
    "csvs_dir = '/Users/personal-macbook/Documents/projects/inaturalist/species_csv'\n",
    "# csv_list = glob(f'{csvs_dir}/*.csv')\n",
    "\n",
    "# df = pd.DataFrame(csv_list, columns=['csv_list'])\n",
    "# df['downloaded'] = False\n",
    "# df.reset_index(inplace=True)\n",
    "\n",
    "# df.to_csv(f'{csvs_dir}/csv_list.csv', index=False)\n",
    "\n",
    "# saving the csv as sql database\n",
    "# df.to_sql('csv_list_table', con=sql.connect(f'{csvs_dir}/sql_inaturalist_insects.db'), if_exists='replace')\n",
    "\n",
    "#  convert df to sql database\n",
    "df = pd.read_csv(f'csv_list.csv', index_col=['index'])\n",
    "\n",
    "# df.to_sql('csv_list_table', con=sql.connect(f'{csvs_dir}/sql_inaturalist_insects.db'), if_exists='replace')\n",
    "df\n",
    "\n",
    "# modify a cell in column downlaoded of table csv_list_table in sql_inaturalist_insects.db\n",
    "# index = 4\n",
    "\n",
    "# sqliteConnection = sql.connect(f'{csvs_dir}/sql_inaturalist_insects.db')\n",
    "# cursor = sqliteConnection.cursor()\n",
    "# sqlite_inser_query = f\"UPDATE csv_list_table SET downloaded = 1 WHERE index = {index}\"\n",
    "\n",
    "\n",
    "# # cursor.execute(f'UPDATE csv_list_table SET downloaded = 1 WHERE index = {index}')\n",
    "\n",
    "\n",
    "# cursor.execute(sqlite_inser_query)\n",
    "# sqliteConnection.commit()\n",
    "# sqliteConnection.close()\n",
    "\n",
    "\n",
    "# pd.read_sql_query('SELECT * FROM csv_list_table', con=sql.connect(f'{csvs_dir}/sql_inaturalist_insects.db'))\n",
    "\n"
   ]
  },
  {
   "cell_type": "code",
   "execution_count": 19,
   "metadata": {},
   "outputs": [
    {
     "name": "stderr",
     "output_type": "stream",
     "text": [
      "  0%|          | 0/10 [00:00<?, ?it/s]"
     ]
    },
    {
     "name": "stdout",
     "output_type": "stream",
     "text": [
      "Starting the downloading of this file\n",
      "Sharding file number 1 of 1 called /Users/personal-macbook/Documents/projects/inaturalist/Species_csv/Polybiomyia schwarzi.csv\n"
     ]
    },
    {
     "name": "stderr",
     "output_type": "stream",
     "text": []
    },
    {
     "name": "stdout",
     "output_type": "stream",
     "text": [
      "File sharded in 1 shards\n",
      "Downloading starting now, check your bandwidth speed (with bwm-ng)your cpu (with htop), and your disk usage (with iotop)!\n"
     ]
    },
    {
     "name": "stderr",
     "output_type": "stream",
     "text": [
      "1it [00:02,  2.49s/it]\n"
     ]
    },
    {
     "name": "stdout",
     "output_type": "stream",
     "text": [
      "worker  - success: 1.000 - failed to download: 0.000 - failed to resize: 0.000 - images per sec: 12 - count: 6\n",
      "total   - success: 1.000 - failed to download: 0.000 - failed to resize: 0.000 - images per sec: 12 - count: 6\n"
     ]
    },
    {
     "name": "stderr",
     "output_type": "stream",
     "text": [
      " 10%|█         | 1/10 [00:03<00:28,  3.17s/it]"
     ]
    },
    {
     "name": "stdout",
     "output_type": "stream",
     "text": [
      "Starting the downloading of this file\n",
      "Sharding file number 1 of 1 called /Users/personal-macbook/Documents/projects/inaturalist/Species_csv/Omorgus melancholicus.csv\n"
     ]
    },
    {
     "name": "stderr",
     "output_type": "stream",
     "text": []
    },
    {
     "name": "stdout",
     "output_type": "stream",
     "text": [
      "File sharded in 1 shards\n",
      "Downloading starting now, check your bandwidth speed (with bwm-ng)your cpu (with htop), and your disk usage (with iotop)!\n"
     ]
    },
    {
     "name": "stderr",
     "output_type": "stream",
     "text": [
      "1it [00:02,  2.11s/it]\n"
     ]
    },
    {
     "name": "stdout",
     "output_type": "stream",
     "text": [
      "worker  - success: 1.000 - failed to download: 0.000 - failed to resize: 0.000 - images per sec: 11 - count: 7\n",
      "total   - success: 1.000 - failed to download: 0.000 - failed to resize: 0.000 - images per sec: 11 - count: 7\n"
     ]
    },
    {
     "name": "stderr",
     "output_type": "stream",
     "text": [
      " 20%|██        | 2/10 [00:05<00:23,  2.89s/it]"
     ]
    },
    {
     "name": "stdout",
     "output_type": "stream",
     "text": [
      "Starting the downloading of this file\n",
      "Sharding file number 1 of 1 called /Users/personal-macbook/Documents/projects/inaturalist/Species_csv/Neozirta eidmanni.csv\n"
     ]
    },
    {
     "name": "stderr",
     "output_type": "stream",
     "text": []
    },
    {
     "name": "stdout",
     "output_type": "stream",
     "text": [
      "File sharded in 1 shards\n",
      "Downloading starting now, check your bandwidth speed (with bwm-ng)your cpu (with htop), and your disk usage (with iotop)!\n"
     ]
    },
    {
     "name": "stderr",
     "output_type": "stream",
     "text": [
      "1it [00:02,  2.40s/it]\n"
     ]
    },
    {
     "name": "stdout",
     "output_type": "stream",
     "text": [
      "worker  - success: 1.000 - failed to download: 0.000 - failed to resize: 0.000 - images per sec: 4 - count: 3\n",
      "total   - success: 1.000 - failed to download: 0.000 - failed to resize: 0.000 - images per sec: 4 - count: 3\n"
     ]
    },
    {
     "name": "stderr",
     "output_type": "stream",
     "text": [
      " 30%|███       | 3/10 [00:09<00:21,  3.01s/it]"
     ]
    },
    {
     "name": "stdout",
     "output_type": "stream",
     "text": [
      "Starting the downloading of this file\n",
      "Sharding file number 1 of 1 called /Users/personal-macbook/Documents/projects/inaturalist/Species_csv/Hierodula purpurescens.csv\n"
     ]
    },
    {
     "name": "stderr",
     "output_type": "stream",
     "text": []
    },
    {
     "name": "stdout",
     "output_type": "stream",
     "text": [
      "File sharded in 1 shards\n",
      "Downloading starting now, check your bandwidth speed (with bwm-ng)your cpu (with htop), and your disk usage (with iotop)!\n"
     ]
    },
    {
     "name": "stderr",
     "output_type": "stream",
     "text": [
      "1it [00:02,  2.18s/it]\n"
     ]
    },
    {
     "name": "stdout",
     "output_type": "stream",
     "text": [
      "worker  - success: 1.000 - failed to download: 0.000 - failed to resize: 0.000 - images per sec: 2 - count: 1\n",
      "total   - success: 1.000 - failed to download: 0.000 - failed to resize: 0.000 - images per sec: 2 - count: 1\n"
     ]
    },
    {
     "name": "stderr",
     "output_type": "stream",
     "text": [
      " 40%|████      | 4/10 [00:12<00:18,  3.06s/it]"
     ]
    },
    {
     "name": "stdout",
     "output_type": "stream",
     "text": [
      "Starting the downloading of this file\n",
      "Sharding file number 1 of 1 called /Users/personal-macbook/Documents/projects/inaturalist/Species_csv/Euthycera chaerophylli.csv"
     ]
    },
    {
     "name": "stderr",
     "output_type": "stream",
     "text": []
    },
    {
     "name": "stdout",
     "output_type": "stream",
     "text": [
      "\n",
      "File sharded in 1 shards\n",
      "Downloading starting now, check your bandwidth speed (with bwm-ng)your cpu (with htop), and your disk usage (with iotop)!\n"
     ]
    },
    {
     "name": "stderr",
     "output_type": "stream",
     "text": [
      "1it [00:08,  8.23s/it]\n"
     ]
    },
    {
     "name": "stdout",
     "output_type": "stream",
     "text": [
      "worker  - success: 0.984 - failed to download: 0.016 - failed to resize: 0.000 - images per sec: 11 - count: 62\n",
      "total   - success: 0.984 - failed to download: 0.016 - failed to resize: 0.000 - images per sec: 11 - count: 62\n"
     ]
    },
    {
     "name": "stderr",
     "output_type": "stream",
     "text": [
      " 50%|█████     | 5/10 [00:21<00:27,  5.41s/it]"
     ]
    },
    {
     "name": "stdout",
     "output_type": "stream",
     "text": [
      "Starting the downloading of this file\n",
      "Sharding file number 1 of 1 called /Users/personal-macbook/Documents/projects/inaturalist/Species_csv/Ambulyx ochracea.csv\n"
     ]
    },
    {
     "name": "stderr",
     "output_type": "stream",
     "text": []
    },
    {
     "name": "stdout",
     "output_type": "stream",
     "text": [
      "File sharded in 1 shards\n",
      "Downloading starting now, check your bandwidth speed (with bwm-ng)your cpu (with htop), and your disk usage (with iotop)!\n"
     ]
    },
    {
     "name": "stderr",
     "output_type": "stream",
     "text": [
      "1it [00:03,  3.58s/it]\n"
     ]
    },
    {
     "name": "stdout",
     "output_type": "stream",
     "text": [
      "worker  - success: 1.000 - failed to download: 0.000 - failed to resize: 0.000 - images per sec: 18 - count: 36\n",
      "total   - success: 1.000 - failed to download: 0.000 - failed to resize: 0.000 - images per sec: 18 - count: 36\n"
     ]
    },
    {
     "name": "stderr",
     "output_type": "stream",
     "text": [
      " 60%|██████    | 6/10 [00:26<00:20,  5.10s/it]"
     ]
    },
    {
     "name": "stdout",
     "output_type": "stream",
     "text": [
      "Starting the downloading of this file\n",
      "Sharding file number 1 of 1 called /Users/personal-macbook/Documents/projects/inaturalist/Species_csv/Pseudohaetera hypaesia.csv\n"
     ]
    },
    {
     "name": "stderr",
     "output_type": "stream",
     "text": []
    },
    {
     "name": "stdout",
     "output_type": "stream",
     "text": [
      "File sharded in 1 shards\n",
      "Downloading starting now, check your bandwidth speed (with bwm-ng)your cpu (with htop), and your disk usage (with iotop)!\n"
     ]
    },
    {
     "name": "stderr",
     "output_type": "stream",
     "text": [
      "1it [00:05,  5.15s/it]\n"
     ]
    },
    {
     "name": "stdout",
     "output_type": "stream",
     "text": [
      "worker  - success: 1.000 - failed to download: 0.000 - failed to resize: 0.000 - images per sec: 33 - count: 119\n",
      "total   - success: 1.000 - failed to download: 0.000 - failed to resize: 0.000 - images per sec: 33 - count: 119\n"
     ]
    },
    {
     "name": "stderr",
     "output_type": "stream",
     "text": [
      " 70%|███████   | 7/10 [00:33<00:17,  5.71s/it]"
     ]
    },
    {
     "name": "stdout",
     "output_type": "stream",
     "text": [
      "Starting the downloading of this file\n",
      "Sharding file number 1 of 1 called /Users/personal-macbook/Documents/projects/inaturalist/Species_csv/Epiplema plagifera.csv\n"
     ]
    },
    {
     "name": "stderr",
     "output_type": "stream",
     "text": []
    },
    {
     "name": "stdout",
     "output_type": "stream",
     "text": [
      "File sharded in 1 shards\n",
      "Downloading starting now, check your bandwidth speed (with bwm-ng)your cpu (with htop), and your disk usage (with iotop)!\n"
     ]
    },
    {
     "name": "stderr",
     "output_type": "stream",
     "text": [
      "1it [00:02,  2.00s/it]\n",
      " 80%|████████  | 8/10 [00:35<00:09,  4.69s/it]"
     ]
    },
    {
     "name": "stdout",
     "output_type": "stream",
     "text": [
      "worker  - success: 1.000 - failed to download: 0.000 - failed to resize: 0.000 - images per sec: 2 - count: 1\n",
      "total   - success: 1.000 - failed to download: 0.000 - failed to resize: 0.000 - images per sec: 2 - count: 1\n",
      "Starting the downloading of this file\n",
      "Sharding file number 1 of 1 called /Users/personal-macbook/Documents/projects/inaturalist/Species_csv/Drepanosticta sundana.csv\n"
     ]
    },
    {
     "name": "stderr",
     "output_type": "stream",
     "text": []
    },
    {
     "name": "stdout",
     "output_type": "stream",
     "text": [
      "File sharded in 1 shards\n",
      "Downloading starting now, check your bandwidth speed (with bwm-ng)your cpu (with htop), and your disk usage (with iotop)!\n"
     ]
    },
    {
     "name": "stderr",
     "output_type": "stream",
     "text": [
      "1it [00:02,  2.28s/it]\n"
     ]
    },
    {
     "name": "stdout",
     "output_type": "stream",
     "text": [
      "worker  - success: 1.000 - failed to download: 0.000 - failed to resize: 0.000 - images per sec: 8 - count: 5\n",
      "total   - success: 1.000 - failed to download: 0.000 - failed to resize: 0.000 - images per sec: 8 - count: 5\n"
     ]
    },
    {
     "name": "stderr",
     "output_type": "stream",
     "text": [
      " 90%|█████████ | 9/10 [00:38<00:04,  4.10s/it]"
     ]
    },
    {
     "name": "stdout",
     "output_type": "stream",
     "text": [
      "Starting the downloading of this file\n",
      "Sharding file number 1 of 1 called /Users/personal-macbook/Documents/projects/inaturalist/Species_csv/Charaxes pelias.csv\n"
     ]
    },
    {
     "name": "stderr",
     "output_type": "stream",
     "text": []
    },
    {
     "name": "stdout",
     "output_type": "stream",
     "text": [
      "File sharded in 1 shards\n",
      "Downloading starting now, check your bandwidth speed (with bwm-ng)your cpu (with htop), and your disk usage (with iotop)!\n"
     ]
    },
    {
     "name": "stderr",
     "output_type": "stream",
     "text": [
      "1it [00:03,  3.54s/it]\n"
     ]
    },
    {
     "name": "stdout",
     "output_type": "stream",
     "text": [
      "worker  - success: 1.000 - failed to download: 0.000 - failed to resize: 0.000 - images per sec: 34 - count: 70\n",
      "total   - success: 1.000 - failed to download: 0.000 - failed to resize: 0.000 - images per sec: 34 - count: 70\n"
     ]
    },
    {
     "name": "stderr",
     "output_type": "stream",
     "text": [
      "100%|██████████| 10/10 [00:43<00:00,  4.34s/it]\n"
     ]
    }
   ],
   "source": [
    "import img2dataset\n",
    "import pandas as pd\n",
    "from glob import glob\n",
    "from tqdm import tqdm\n",
    "import tarfile\n",
    "import shutil\n",
    "\n",
    "csv_list = glob('Species_csv/*.csv')\n",
    "end_list_index = len(csv_list)\n",
    "start_index, end_index = 0, 10\n",
    "\n",
    "parent_ancestors = []\n",
    "tar_name = f'{start_index}_{end_index}.tar.gz'\n",
    "tar = tarfile.open(tar_name, \"w:gz\")\n",
    "\n",
    "for i in tqdm(csv_list[start_index:end_index]):\n",
    "    df = pd.read_csv(i)\n",
    "    ancestry = df.loc[0,'ancestry']\n",
    "    img2dataset.download(processes_count=16,\n",
    "                        thread_count=32,\n",
    "                        url_list=i,\n",
    "                        output_folder=ancestry,\n",
    "                        output_format='webdataset',\n",
    "                        input_format='csv',\n",
    "                        url_col='photo_url_large',\n",
    "                        number_sample_per_shard=200000,\n",
    "                        distributor='multiprocessing',\n",
    "                        resize_mode='no')\n",
    "    \n",
    "    tar.add(ancestry)\n",
    "    \n",
    "    \n",
    "    # PA = ancestry.split('/')[0]\n",
    "    # if PA not in parent_ancestors: \n",
    "    #     parent_ancestors.append(PA)\n",
    "\n",
    "tar.close()\n",
    "# shutil.rmtree(tar_name)"
   ]
  },
  {
   "cell_type": "code",
   "execution_count": 24,
   "metadata": {},
   "outputs": [
    {
     "name": "stderr",
     "output_type": "stream",
     "text": [
      "sh: iput: command not found\n"
     ]
    },
    {
     "data": {
      "text/plain": [
       "32512"
      ]
     },
     "execution_count": 24,
     "metadata": {},
     "output_type": "execute_result"
    }
   ],
   "source": [
    "import subprocess\n",
    "import os\n",
    "# use subprocess to run the below command\n",
    "ds_dir=\"/iplant/home/shared/soynomics/inaturalist/downloaded_data/\"\n",
    "command = f'iput -f {tar_name} {ds_dir}'\n",
    "\n",
    "os.system(command)\n",
    "\n",
    "# p = subprocess.Popen(command, shell=True)\n",
    "# p.communicate()"
   ]
  },
  {
   "cell_type": "code",
   "execution_count": 23,
   "metadata": {},
   "outputs": [
    {
     "name": "stderr",
     "output_type": "stream",
     "text": [
      "bash: iput: No such file or directory\n"
     ]
    },
    {
     "data": {
      "text/plain": [
       "32512"
      ]
     },
     "execution_count": 23,
     "metadata": {},
     "output_type": "execute_result"
    }
   ],
   "source": []
  },
  {
   "cell_type": "code",
   "execution_count": 20,
   "metadata": {},
   "outputs": [
    {
     "data": {
      "text/plain": [
       "True"
      ]
     },
     "execution_count": 20,
     "metadata": {},
     "output_type": "execute_result"
    }
   ],
   "source": [
    "# Check sizes\n",
    "# aws s3 ls s3://inaturalist-open-data/photos/162023624/ --no-sign-request\n",
    "# du -sh 48460/1/47120/372739/47158/184884/47157/47607/121850/82031/417213/00000/00000115.jpg"
   ]
  },
  {
   "cell_type": "markdown",
   "metadata": {},
   "source": [
    "### Renaming the images to their respective photo-id"
   ]
  },
  {
   "cell_type": "code",
   "execution_count": 28,
   "metadata": {},
   "outputs": [],
   "source": [
    "shards_list = [ l for l in os.listdir(ancestry) if os.path.isdir(ancestry + '/' + l)]\n",
    "\n",
    "import json\n",
    "from glob import glob\n",
    "\n",
    "for shard in shards_list:\n",
    "    \n",
    "    json_list = [l.split('/')[-1].split('.json')[0] for l in glob(f'{ancestry}/{shard}/*.json')]\n",
    "    \n",
    "    dir_img = f'{ancestry}/{shard}'\n",
    "    \n",
    "    for img_new_id in json_list:\n",
    "\n",
    "        f = open(f'{dir_img}/{img_new_id}.json', 'r')\n",
    "        url = json.load(f)['url']\n",
    "        \n",
    "        photo_id = url.split('/')[-2]\n",
    "        img_size_n_format_orig = url.split('/')[-1]\n",
    "        \n",
    "        img_size = img_size_n_format_orig.split('.')[0]\n",
    "        img_format = 'jpg' if CONVERT_IMAGE_FORMAT else img_size_n_format_orig.split('.')[1]\n",
    "\n",
    "        os.rename(f'{dir_img}/{img_new_id}.{img_format}', f'{dir_img}/{photo_id}_{img_size_n_format_orig}')\n",
    "        os.rename(f'{dir_img}/{img_new_id}.json', f'{dir_img}/{photo_id}_{img_size}.json')\n",
    "            \n"
   ]
  },
  {
   "cell_type": "code",
   "execution_count": 2,
   "metadata": {},
   "outputs": [],
   "source": [
    "dir = f'data/'\n",
    "# df  = dd.read_csv(f'{dir}/taxa.csv', sep='\t', dtype={'taxon_id':float, 'ancestry':str,'rank_level':float,'rank':str,'name':str,'active':bool})\n",
    "# df = dd.read_csv(f'{dir}/observers.csv', sep='\t')\n",
    "# df = dd.read_csv( f'{dir}/photos.csv',sep='\t', dtype={'photo_uuid':str, 'photo_id':str,'observation_uuid':str,'observer_id':str,'extension':str,'license':str, 'width':str, 'height':str, 'position':str} )\n",
    "# df = dd.read_csv(f'{dir}/observations.csv', sep='\t', dtype={'observation_uuid':str,'observer_id':str,'latitude':str,'longitude':str,'positional_accuracy':str,'taxon_id':str,'quality_grade':str,'observed_on':str})"
   ]
  },
  {
   "cell_type": "markdown",
   "metadata": {},
   "source": [
    "### Taxa"
   ]
  },
  {
   "cell_type": "code",
   "execution_count": 3,
   "metadata": {},
   "outputs": [
    {
     "data": {
      "text/html": [
       "<div>\n",
       "<style scoped>\n",
       "    .dataframe tbody tr th:only-of-type {\n",
       "        vertical-align: middle;\n",
       "    }\n",
       "\n",
       "    .dataframe tbody tr th {\n",
       "        vertical-align: top;\n",
       "    }\n",
       "\n",
       "    .dataframe thead th {\n",
       "        text-align: right;\n",
       "    }\n",
       "</style>\n",
       "<table border=\"1\" class=\"dataframe\">\n",
       "  <thead>\n",
       "    <tr style=\"text-align: right;\">\n",
       "      <th></th>\n",
       "      <th>taxon_id</th>\n",
       "      <th>ancestry</th>\n",
       "      <th>rank_level</th>\n",
       "      <th>rank</th>\n",
       "      <th>name</th>\n",
       "      <th>active</th>\n",
       "    </tr>\n",
       "  </thead>\n",
       "  <tbody>\n",
       "    <tr>\n",
       "      <th>0</th>\n",
       "      <td>8943</td>\n",
       "      <td>48460/1/2/355675/3/7251/980017</td>\n",
       "      <td>20</td>\n",
       "      <td>genus</td>\n",
       "      <td>Calyptura</td>\n",
       "      <td>true</td>\n",
       "    </tr>\n",
       "    <tr>\n",
       "      <th>1</th>\n",
       "      <td>8605</td>\n",
       "      <td>48460/1/2/355675/3/7251/71348</td>\n",
       "      <td>20</td>\n",
       "      <td>genus</td>\n",
       "      <td>Lophorina</td>\n",
       "      <td>true</td>\n",
       "    </tr>\n",
       "    <tr>\n",
       "      <th>2</th>\n",
       "      <td>8856</td>\n",
       "      <td>48460/1/2/355675/3/7251/8659/8855</td>\n",
       "      <td>10</td>\n",
       "      <td>species</td>\n",
       "      <td>Porphyrolaema porphyrolaema</td>\n",
       "      <td>true</td>\n",
       "    </tr>\n",
       "    <tr>\n",
       "      <th>3</th>\n",
       "      <td>27</td>\n",
       "      <td>48460/1/2/355675/3/4/23/24</td>\n",
       "      <td>10</td>\n",
       "      <td>species</td>\n",
       "      <td>Grus canadensis</td>\n",
       "      <td>false</td>\n",
       "    </tr>\n",
       "    <tr>\n",
       "      <th>4</th>\n",
       "      <td>8784</td>\n",
       "      <td>48460/1/2/355675/3/7251/8659/8756</td>\n",
       "      <td>10</td>\n",
       "      <td>species</td>\n",
       "      <td>Pipreola whitelyi</td>\n",
       "      <td>true</td>\n",
       "    </tr>\n",
       "  </tbody>\n",
       "</table>\n",
       "</div>"
      ],
      "text/plain": [
       "  taxon_id                           ancestry rank_level     rank  \\\n",
       "0     8943     48460/1/2/355675/3/7251/980017         20    genus   \n",
       "1     8605      48460/1/2/355675/3/7251/71348         20    genus   \n",
       "2     8856  48460/1/2/355675/3/7251/8659/8855         10  species   \n",
       "3       27         48460/1/2/355675/3/4/23/24         10  species   \n",
       "4     8784  48460/1/2/355675/3/7251/8659/8756         10  species   \n",
       "\n",
       "                          name active  \n",
       "0                    Calyptura   true  \n",
       "1                    Lophorina   true  \n",
       "2  Porphyrolaema porphyrolaema   true  \n",
       "3              Grus canadensis  false  \n",
       "4            Pipreola whitelyi   true  "
      ]
     },
     "execution_count": 3,
     "metadata": {},
     "output_type": "execute_result"
    }
   ],
   "source": [
    "df_taxa = dd.read_csv(f'{dir}/taxa.csv', sep='\t', dtype=str)\n",
    "df_taxa_filt = df_taxa[['taxon_id', 'ancestry','rank_level','rank','name','active']]\n",
    "\n",
    "df_taxa.head()"
   ]
  },
  {
   "cell_type": "markdown",
   "metadata": {},
   "source": [
    "### Observations\n",
    "Note: each observer_id can be repeated multiple times in this dataframe"
   ]
  },
  {
   "cell_type": "code",
   "execution_count": 5,
   "metadata": {},
   "outputs": [
    {
     "name": "stderr",
     "output_type": "stream",
     "text": [
      "/Users/personal-macbook/opt/anaconda3/envs/aws/lib/python3.8/site-packages/dask/dataframe/core.py:7296: UserWarning: Insufficient elements for `head`. 5 elements requested, only 1 elements available. Try passing larger `npartitions` to `head`.\n",
      "  warnings.warn(\n"
     ]
    },
    {
     "data": {
      "text/html": [
       "<div>\n",
       "<style scoped>\n",
       "    .dataframe tbody tr th:only-of-type {\n",
       "        vertical-align: middle;\n",
       "    }\n",
       "\n",
       "    .dataframe tbody tr th {\n",
       "        vertical-align: top;\n",
       "    }\n",
       "\n",
       "    .dataframe thead th {\n",
       "        text-align: right;\n",
       "    }\n",
       "</style>\n",
       "<table border=\"1\" class=\"dataframe\">\n",
       "  <thead>\n",
       "    <tr style=\"text-align: right;\">\n",
       "      <th></th>\n",
       "      <th>observation_uuid</th>\n",
       "      <th>observer_id</th>\n",
       "      <th>latitude</th>\n",
       "      <th>longitude</th>\n",
       "      <th>positional_accuracy</th>\n",
       "      <th>taxon_id</th>\n",
       "      <th>quality_grade</th>\n",
       "      <th>observed_on</th>\n",
       "    </tr>\n",
       "  </thead>\n",
       "  <tbody>\n",
       "    <tr>\n",
       "      <th>0</th>\n",
       "      <td>526ababd-aff2-4ce8-b111-d8013b9d8b42</td>\n",
       "      <td>505</td>\n",
       "      <td>38.6097400000</td>\n",
       "      <td>-122.7673020000</td>\n",
       "      <td>NaN</td>\n",
       "      <td>53137</td>\n",
       "      <td>research</td>\n",
       "      <td>2011-05-30</td>\n",
       "    </tr>\n",
       "  </tbody>\n",
       "</table>\n",
       "</div>"
      ],
      "text/plain": [
       "                       observation_uuid observer_id       latitude  \\\n",
       "0  526ababd-aff2-4ce8-b111-d8013b9d8b42         505  38.6097400000   \n",
       "\n",
       "         longitude positional_accuracy taxon_id quality_grade observed_on  \n",
       "0  -122.7673020000                 NaN    53137      research  2011-05-30  "
      ]
     },
     "execution_count": 5,
     "metadata": {},
     "output_type": "execute_result"
    }
   ],
   "source": [
    "df_observations = dd.read_csv(f'{dir}/observations.csv', sep='\t', dtype=str)\n",
    "df_observations_filt = df_observations[['taxon_id', 'quality_grade']]\n",
    "\n",
    "df_observations.head()\n",
    "\n",
    "df_observations[df_observations.observation_uuid == '526ababd-aff2-4ce8-b111-d8013b9d8b42'].head()"
   ]
  },
  {
   "cell_type": "markdown",
   "metadata": {},
   "source": [
    "### observers"
   ]
  },
  {
   "cell_type": "code",
   "execution_count": 6,
   "metadata": {},
   "outputs": [
    {
     "data": {
      "text/html": [
       "<div>\n",
       "<style scoped>\n",
       "    .dataframe tbody tr th:only-of-type {\n",
       "        vertical-align: middle;\n",
       "    }\n",
       "\n",
       "    .dataframe tbody tr th {\n",
       "        vertical-align: top;\n",
       "    }\n",
       "\n",
       "    .dataframe thead th {\n",
       "        text-align: right;\n",
       "    }\n",
       "</style>\n",
       "<table border=\"1\" class=\"dataframe\">\n",
       "  <thead>\n",
       "    <tr style=\"text-align: right;\">\n",
       "      <th></th>\n",
       "      <th>observer_id</th>\n",
       "      <th>login</th>\n",
       "      <th>name</th>\n",
       "    </tr>\n",
       "  </thead>\n",
       "  <tbody>\n",
       "    <tr>\n",
       "      <th>0</th>\n",
       "      <td>1</td>\n",
       "      <td>kueda</td>\n",
       "      <td>Ken-ichi Ueda</td>\n",
       "    </tr>\n",
       "    <tr>\n",
       "      <th>1</th>\n",
       "      <td>8</td>\n",
       "      <td>tueda</td>\n",
       "      <td>NaN</td>\n",
       "    </tr>\n",
       "    <tr>\n",
       "      <th>2</th>\n",
       "      <td>28</td>\n",
       "      <td>tiwane</td>\n",
       "      <td>Tony Iwane</td>\n",
       "    </tr>\n",
       "    <tr>\n",
       "      <th>3</th>\n",
       "      <td>85</td>\n",
       "      <td>russiannaturalistbrazil</td>\n",
       "      <td>NaN</td>\n",
       "    </tr>\n",
       "    <tr>\n",
       "      <th>4</th>\n",
       "      <td>129</td>\n",
       "      <td>field_daze</td>\n",
       "      <td>Liv MW</td>\n",
       "    </tr>\n",
       "  </tbody>\n",
       "</table>\n",
       "</div>"
      ],
      "text/plain": [
       "  observer_id                    login           name\n",
       "0           1                    kueda  Ken-ichi Ueda\n",
       "1           8                    tueda            NaN\n",
       "2          28                   tiwane     Tony Iwane\n",
       "3          85  russiannaturalistbrazil            NaN\n",
       "4         129               field_daze         Liv MW"
      ]
     },
     "execution_count": 6,
     "metadata": {},
     "output_type": "execute_result"
    }
   ],
   "source": [
    "df_observers = dd.read_csv(f'{dir}/observers.csv', sep='\t', dtype=str)\n",
    "df_observers.head()"
   ]
  },
  {
   "cell_type": "markdown",
   "metadata": {},
   "source": [
    "### photos"
   ]
  },
  {
   "cell_type": "code",
   "execution_count": 7,
   "metadata": {},
   "outputs": [
    {
     "name": "stderr",
     "output_type": "stream",
     "text": [
      "/Users/personal-macbook/opt/anaconda3/envs/aws/lib/python3.8/site-packages/dask/dataframe/core.py:7296: UserWarning: Insufficient elements for `head`. 5 elements requested, only 3 elements available. Try passing larger `npartitions` to `head`.\n",
      "  warnings.warn(\n"
     ]
    },
    {
     "data": {
      "text/html": [
       "<div>\n",
       "<style scoped>\n",
       "    .dataframe tbody tr th:only-of-type {\n",
       "        vertical-align: middle;\n",
       "    }\n",
       "\n",
       "    .dataframe tbody tr th {\n",
       "        vertical-align: top;\n",
       "    }\n",
       "\n",
       "    .dataframe thead th {\n",
       "        text-align: right;\n",
       "    }\n",
       "</style>\n",
       "<table border=\"1\" class=\"dataframe\">\n",
       "  <thead>\n",
       "    <tr style=\"text-align: right;\">\n",
       "      <th></th>\n",
       "      <th>photo_uuid</th>\n",
       "      <th>photo_id</th>\n",
       "      <th>observation_uuid</th>\n",
       "      <th>observer_id</th>\n",
       "      <th>extension</th>\n",
       "      <th>license</th>\n",
       "      <th>width</th>\n",
       "      <th>height</th>\n",
       "      <th>position</th>\n",
       "    </tr>\n",
       "  </thead>\n",
       "  <tbody>\n",
       "    <tr>\n",
       "      <th>0</th>\n",
       "      <td>9b5ca6f4-fb23-47ff-b581-5fe3f9d068aa</td>\n",
       "      <td>35927</td>\n",
       "      <td>526ababd-aff2-4ce8-b111-d8013b9d8b42</td>\n",
       "      <td>505</td>\n",
       "      <td>jpg</td>\n",
       "      <td>CC-BY</td>\n",
       "      <td>2048</td>\n",
       "      <td>1356</td>\n",
       "      <td>0</td>\n",
       "    </tr>\n",
       "    <tr>\n",
       "      <th>1</th>\n",
       "      <td>a291d420-3ca6-4f94-b955-6c936a9b596d</td>\n",
       "      <td>35926</td>\n",
       "      <td>526ababd-aff2-4ce8-b111-d8013b9d8b42</td>\n",
       "      <td>505</td>\n",
       "      <td>jpg</td>\n",
       "      <td>CC-BY</td>\n",
       "      <td>2048</td>\n",
       "      <td>1680</td>\n",
       "      <td>1</td>\n",
       "    </tr>\n",
       "    <tr>\n",
       "      <th>2</th>\n",
       "      <td>c6d7769c-0390-42cc-8012-874cd49ea180</td>\n",
       "      <td>35925</td>\n",
       "      <td>526ababd-aff2-4ce8-b111-d8013b9d8b42</td>\n",
       "      <td>505</td>\n",
       "      <td>jpg</td>\n",
       "      <td>CC-BY</td>\n",
       "      <td>2048</td>\n",
       "      <td>1863</td>\n",
       "      <td>2</td>\n",
       "    </tr>\n",
       "  </tbody>\n",
       "</table>\n",
       "</div>"
      ],
      "text/plain": [
       "                             photo_uuid photo_id  \\\n",
       "0  9b5ca6f4-fb23-47ff-b581-5fe3f9d068aa    35927   \n",
       "1  a291d420-3ca6-4f94-b955-6c936a9b596d    35926   \n",
       "2  c6d7769c-0390-42cc-8012-874cd49ea180    35925   \n",
       "\n",
       "                       observation_uuid observer_id extension license width  \\\n",
       "0  526ababd-aff2-4ce8-b111-d8013b9d8b42         505       jpg   CC-BY  2048   \n",
       "1  526ababd-aff2-4ce8-b111-d8013b9d8b42         505       jpg   CC-BY  2048   \n",
       "2  526ababd-aff2-4ce8-b111-d8013b9d8b42         505       jpg   CC-BY  2048   \n",
       "\n",
       "  height position  \n",
       "0   1356        0  \n",
       "1   1680        1  \n",
       "2   1863        2  "
      ]
     },
     "execution_count": 7,
     "metadata": {},
     "output_type": "execute_result"
    }
   ],
   "source": [
    "df_photos = dd.read_csv(f'{dir}/photos.csv', sep='\t', dtype=str)\n",
    "df_photos_filt = df_photos[['photo_id', 'license','extension','photo_uuid']]\n",
    "df_photos.head()\n",
    "\n",
    "# df_photos.set_index('observation_uuid').head()\n",
    "df_photos[df_photos.observation_uuid == '526ababd-aff2-4ce8-b111-d8013b9d8b42'].head()"
   ]
  },
  {
   "cell_type": "code",
   "execution_count": 8,
   "metadata": {},
   "outputs": [],
   "source": [
    "# df_observations[df_observations.observation_uuid == '526ababd-aff2-4ce8-b111-d8013b9d8b42'].head()\n",
    "df22 = dd.merge(left=df_photos, right=df_observations, how='left', on='observation_uuid')\n",
    "# df22 = df_observations.drop(columns=['observer_id'])\n",
    "# df2 = dd.concat([df_photos, df22])\n",
    "# df2.head()"
   ]
  },
  {
   "cell_type": "code",
   "execution_count": 9,
   "metadata": {},
   "outputs": [],
   "source": [
    "# ? dd.merge"
   ]
  },
  {
   "cell_type": "code",
   "execution_count": 10,
   "metadata": {},
   "outputs": [
    {
     "ename": "KeyboardInterrupt",
     "evalue": "",
     "output_type": "error",
     "traceback": [
      "\u001b[0;31m---------------------------------------------------------------------------\u001b[0m",
      "\u001b[0;31mKeyboardInterrupt\u001b[0m                         Traceback (most recent call last)",
      "\u001b[1;32m/Users/personal-macbook/Documents/projects/inaturalist/view.ipynb Cell 13'\u001b[0m in \u001b[0;36m<cell line: 1>\u001b[0;34m()\u001b[0m\n\u001b[0;32m----> <a href='vscode-notebook-cell:/Users/personal-macbook/Documents/projects/inaturalist/view.ipynb#ch0000012?line=0'>1</a>\u001b[0m df22\u001b[39m.\u001b[39;49mhead()\n",
      "File \u001b[0;32m~/opt/anaconda3/envs/aws/lib/python3.8/site-packages/dask/dataframe/core.py:1208\u001b[0m, in \u001b[0;36m_Frame.head\u001b[0;34m(self, n, npartitions, compute)\u001b[0m\n\u001b[1;32m   <a href='file:///Users/personal-macbook/opt/anaconda3/envs/aws/lib/python3.8/site-packages/dask/dataframe/core.py?line=1205'>1206</a>\u001b[0m \u001b[39m# No need to warn if we're already looking at all partitions\u001b[39;00m\n\u001b[1;32m   <a href='file:///Users/personal-macbook/opt/anaconda3/envs/aws/lib/python3.8/site-packages/dask/dataframe/core.py?line=1206'>1207</a>\u001b[0m safe \u001b[39m=\u001b[39m npartitions \u001b[39m!=\u001b[39m \u001b[39mself\u001b[39m\u001b[39m.\u001b[39mnpartitions\n\u001b[0;32m-> <a href='file:///Users/personal-macbook/opt/anaconda3/envs/aws/lib/python3.8/site-packages/dask/dataframe/core.py?line=1207'>1208</a>\u001b[0m \u001b[39mreturn\u001b[39;00m \u001b[39mself\u001b[39;49m\u001b[39m.\u001b[39;49m_head(n\u001b[39m=\u001b[39;49mn, npartitions\u001b[39m=\u001b[39;49mnpartitions, compute\u001b[39m=\u001b[39;49mcompute, safe\u001b[39m=\u001b[39;49msafe)\n",
      "File \u001b[0;32m~/opt/anaconda3/envs/aws/lib/python3.8/site-packages/dask/dataframe/core.py:1242\u001b[0m, in \u001b[0;36m_Frame._head\u001b[0;34m(self, n, npartitions, compute, safe)\u001b[0m\n\u001b[1;32m   <a href='file:///Users/personal-macbook/opt/anaconda3/envs/aws/lib/python3.8/site-packages/dask/dataframe/core.py?line=1236'>1237</a>\u001b[0m result \u001b[39m=\u001b[39m new_dd_object(\n\u001b[1;32m   <a href='file:///Users/personal-macbook/opt/anaconda3/envs/aws/lib/python3.8/site-packages/dask/dataframe/core.py?line=1237'>1238</a>\u001b[0m     graph, name, \u001b[39mself\u001b[39m\u001b[39m.\u001b[39m_meta, [\u001b[39mself\u001b[39m\u001b[39m.\u001b[39mdivisions[\u001b[39m0\u001b[39m], \u001b[39mself\u001b[39m\u001b[39m.\u001b[39mdivisions[npartitions]]\n\u001b[1;32m   <a href='file:///Users/personal-macbook/opt/anaconda3/envs/aws/lib/python3.8/site-packages/dask/dataframe/core.py?line=1238'>1239</a>\u001b[0m )\n\u001b[1;32m   <a href='file:///Users/personal-macbook/opt/anaconda3/envs/aws/lib/python3.8/site-packages/dask/dataframe/core.py?line=1240'>1241</a>\u001b[0m \u001b[39mif\u001b[39;00m compute:\n\u001b[0;32m-> <a href='file:///Users/personal-macbook/opt/anaconda3/envs/aws/lib/python3.8/site-packages/dask/dataframe/core.py?line=1241'>1242</a>\u001b[0m     result \u001b[39m=\u001b[39m result\u001b[39m.\u001b[39;49mcompute()\n\u001b[1;32m   <a href='file:///Users/personal-macbook/opt/anaconda3/envs/aws/lib/python3.8/site-packages/dask/dataframe/core.py?line=1242'>1243</a>\u001b[0m \u001b[39mreturn\u001b[39;00m result\n",
      "File \u001b[0;32m~/opt/anaconda3/envs/aws/lib/python3.8/site-packages/dask/base.py:292\u001b[0m, in \u001b[0;36mDaskMethodsMixin.compute\u001b[0;34m(self, **kwargs)\u001b[0m\n\u001b[1;32m    <a href='file:///Users/personal-macbook/opt/anaconda3/envs/aws/lib/python3.8/site-packages/dask/base.py?line=267'>268</a>\u001b[0m \u001b[39mdef\u001b[39;00m \u001b[39mcompute\u001b[39m(\u001b[39mself\u001b[39m, \u001b[39m*\u001b[39m\u001b[39m*\u001b[39mkwargs):\n\u001b[1;32m    <a href='file:///Users/personal-macbook/opt/anaconda3/envs/aws/lib/python3.8/site-packages/dask/base.py?line=268'>269</a>\u001b[0m     \u001b[39m\"\"\"Compute this dask collection\u001b[39;00m\n\u001b[1;32m    <a href='file:///Users/personal-macbook/opt/anaconda3/envs/aws/lib/python3.8/site-packages/dask/base.py?line=269'>270</a>\u001b[0m \n\u001b[1;32m    <a href='file:///Users/personal-macbook/opt/anaconda3/envs/aws/lib/python3.8/site-packages/dask/base.py?line=270'>271</a>\u001b[0m \u001b[39m    This turns a lazy Dask collection into its in-memory equivalent.\u001b[39;00m\n\u001b[0;32m   (...)\u001b[0m\n\u001b[1;32m    <a href='file:///Users/personal-macbook/opt/anaconda3/envs/aws/lib/python3.8/site-packages/dask/base.py?line=289'>290</a>\u001b[0m \u001b[39m    dask.base.compute\u001b[39;00m\n\u001b[1;32m    <a href='file:///Users/personal-macbook/opt/anaconda3/envs/aws/lib/python3.8/site-packages/dask/base.py?line=290'>291</a>\u001b[0m \u001b[39m    \"\"\"\u001b[39;00m\n\u001b[0;32m--> <a href='file:///Users/personal-macbook/opt/anaconda3/envs/aws/lib/python3.8/site-packages/dask/base.py?line=291'>292</a>\u001b[0m     (result,) \u001b[39m=\u001b[39m compute(\u001b[39mself\u001b[39;49m, traverse\u001b[39m=\u001b[39;49m\u001b[39mFalse\u001b[39;49;00m, \u001b[39m*\u001b[39;49m\u001b[39m*\u001b[39;49mkwargs)\n\u001b[1;32m    <a href='file:///Users/personal-macbook/opt/anaconda3/envs/aws/lib/python3.8/site-packages/dask/base.py?line=292'>293</a>\u001b[0m     \u001b[39mreturn\u001b[39;00m result\n",
      "File \u001b[0;32m~/opt/anaconda3/envs/aws/lib/python3.8/site-packages/dask/base.py:575\u001b[0m, in \u001b[0;36mcompute\u001b[0;34m(traverse, optimize_graph, scheduler, get, *args, **kwargs)\u001b[0m\n\u001b[1;32m    <a href='file:///Users/personal-macbook/opt/anaconda3/envs/aws/lib/python3.8/site-packages/dask/base.py?line=571'>572</a>\u001b[0m     keys\u001b[39m.\u001b[39mappend(x\u001b[39m.\u001b[39m__dask_keys__())\n\u001b[1;32m    <a href='file:///Users/personal-macbook/opt/anaconda3/envs/aws/lib/python3.8/site-packages/dask/base.py?line=572'>573</a>\u001b[0m     postcomputes\u001b[39m.\u001b[39mappend(x\u001b[39m.\u001b[39m__dask_postcompute__())\n\u001b[0;32m--> <a href='file:///Users/personal-macbook/opt/anaconda3/envs/aws/lib/python3.8/site-packages/dask/base.py?line=574'>575</a>\u001b[0m results \u001b[39m=\u001b[39m schedule(dsk, keys, \u001b[39m*\u001b[39;49m\u001b[39m*\u001b[39;49mkwargs)\n\u001b[1;32m    <a href='file:///Users/personal-macbook/opt/anaconda3/envs/aws/lib/python3.8/site-packages/dask/base.py?line=575'>576</a>\u001b[0m \u001b[39mreturn\u001b[39;00m repack([f(r, \u001b[39m*\u001b[39ma) \u001b[39mfor\u001b[39;00m r, (f, a) \u001b[39min\u001b[39;00m \u001b[39mzip\u001b[39m(results, postcomputes)])\n",
      "File \u001b[0;32m~/opt/anaconda3/envs/aws/lib/python3.8/site-packages/dask/threaded.py:81\u001b[0m, in \u001b[0;36mget\u001b[0;34m(dsk, result, cache, num_workers, pool, **kwargs)\u001b[0m\n\u001b[1;32m     <a href='file:///Users/personal-macbook/opt/anaconda3/envs/aws/lib/python3.8/site-packages/dask/threaded.py?line=77'>78</a>\u001b[0m     \u001b[39melif\u001b[39;00m \u001b[39misinstance\u001b[39m(pool, multiprocessing\u001b[39m.\u001b[39mpool\u001b[39m.\u001b[39mPool):\n\u001b[1;32m     <a href='file:///Users/personal-macbook/opt/anaconda3/envs/aws/lib/python3.8/site-packages/dask/threaded.py?line=78'>79</a>\u001b[0m         pool \u001b[39m=\u001b[39m MultiprocessingPoolExecutor(pool)\n\u001b[0;32m---> <a href='file:///Users/personal-macbook/opt/anaconda3/envs/aws/lib/python3.8/site-packages/dask/threaded.py?line=80'>81</a>\u001b[0m results \u001b[39m=\u001b[39m get_async(\n\u001b[1;32m     <a href='file:///Users/personal-macbook/opt/anaconda3/envs/aws/lib/python3.8/site-packages/dask/threaded.py?line=81'>82</a>\u001b[0m     pool\u001b[39m.\u001b[39;49msubmit,\n\u001b[1;32m     <a href='file:///Users/personal-macbook/opt/anaconda3/envs/aws/lib/python3.8/site-packages/dask/threaded.py?line=82'>83</a>\u001b[0m     pool\u001b[39m.\u001b[39;49m_max_workers,\n\u001b[1;32m     <a href='file:///Users/personal-macbook/opt/anaconda3/envs/aws/lib/python3.8/site-packages/dask/threaded.py?line=83'>84</a>\u001b[0m     dsk,\n\u001b[1;32m     <a href='file:///Users/personal-macbook/opt/anaconda3/envs/aws/lib/python3.8/site-packages/dask/threaded.py?line=84'>85</a>\u001b[0m     result,\n\u001b[1;32m     <a href='file:///Users/personal-macbook/opt/anaconda3/envs/aws/lib/python3.8/site-packages/dask/threaded.py?line=85'>86</a>\u001b[0m     cache\u001b[39m=\u001b[39;49mcache,\n\u001b[1;32m     <a href='file:///Users/personal-macbook/opt/anaconda3/envs/aws/lib/python3.8/site-packages/dask/threaded.py?line=86'>87</a>\u001b[0m     get_id\u001b[39m=\u001b[39;49m_thread_get_id,\n\u001b[1;32m     <a href='file:///Users/personal-macbook/opt/anaconda3/envs/aws/lib/python3.8/site-packages/dask/threaded.py?line=87'>88</a>\u001b[0m     pack_exception\u001b[39m=\u001b[39;49mpack_exception,\n\u001b[1;32m     <a href='file:///Users/personal-macbook/opt/anaconda3/envs/aws/lib/python3.8/site-packages/dask/threaded.py?line=88'>89</a>\u001b[0m     \u001b[39m*\u001b[39;49m\u001b[39m*\u001b[39;49mkwargs,\n\u001b[1;32m     <a href='file:///Users/personal-macbook/opt/anaconda3/envs/aws/lib/python3.8/site-packages/dask/threaded.py?line=89'>90</a>\u001b[0m )\n\u001b[1;32m     <a href='file:///Users/personal-macbook/opt/anaconda3/envs/aws/lib/python3.8/site-packages/dask/threaded.py?line=91'>92</a>\u001b[0m \u001b[39m# Cleanup pools associated to dead threads\u001b[39;00m\n\u001b[1;32m     <a href='file:///Users/personal-macbook/opt/anaconda3/envs/aws/lib/python3.8/site-packages/dask/threaded.py?line=92'>93</a>\u001b[0m \u001b[39mwith\u001b[39;00m pools_lock:\n",
      "File \u001b[0;32m~/opt/anaconda3/envs/aws/lib/python3.8/site-packages/dask/local.py:497\u001b[0m, in \u001b[0;36mget_async\u001b[0;34m(submit, num_workers, dsk, result, cache, get_id, rerun_exceptions_locally, pack_exception, raise_exception, callbacks, dumps, loads, chunksize, **kwargs)\u001b[0m\n\u001b[1;32m    <a href='file:///Users/personal-macbook/opt/anaconda3/envs/aws/lib/python3.8/site-packages/dask/local.py?line=494'>495</a>\u001b[0m \u001b[39mwhile\u001b[39;00m state[\u001b[39m\"\u001b[39m\u001b[39mwaiting\u001b[39m\u001b[39m\"\u001b[39m] \u001b[39mor\u001b[39;00m state[\u001b[39m\"\u001b[39m\u001b[39mready\u001b[39m\u001b[39m\"\u001b[39m] \u001b[39mor\u001b[39;00m state[\u001b[39m\"\u001b[39m\u001b[39mrunning\u001b[39m\u001b[39m\"\u001b[39m]:\n\u001b[1;32m    <a href='file:///Users/personal-macbook/opt/anaconda3/envs/aws/lib/python3.8/site-packages/dask/local.py?line=495'>496</a>\u001b[0m     fire_tasks(chunksize)\n\u001b[0;32m--> <a href='file:///Users/personal-macbook/opt/anaconda3/envs/aws/lib/python3.8/site-packages/dask/local.py?line=496'>497</a>\u001b[0m     \u001b[39mfor\u001b[39;00m key, res_info, failed \u001b[39min\u001b[39;00m queue_get(queue)\u001b[39m.\u001b[39mresult():\n\u001b[1;32m    <a href='file:///Users/personal-macbook/opt/anaconda3/envs/aws/lib/python3.8/site-packages/dask/local.py?line=497'>498</a>\u001b[0m         \u001b[39mif\u001b[39;00m failed:\n\u001b[1;32m    <a href='file:///Users/personal-macbook/opt/anaconda3/envs/aws/lib/python3.8/site-packages/dask/local.py?line=498'>499</a>\u001b[0m             exc, tb \u001b[39m=\u001b[39m loads(res_info)\n",
      "File \u001b[0;32m~/opt/anaconda3/envs/aws/lib/python3.8/site-packages/dask/local.py:134\u001b[0m, in \u001b[0;36mqueue_get\u001b[0;34m(q)\u001b[0m\n\u001b[1;32m    <a href='file:///Users/personal-macbook/opt/anaconda3/envs/aws/lib/python3.8/site-packages/dask/local.py?line=132'>133</a>\u001b[0m \u001b[39mdef\u001b[39;00m \u001b[39mqueue_get\u001b[39m(q):\n\u001b[0;32m--> <a href='file:///Users/personal-macbook/opt/anaconda3/envs/aws/lib/python3.8/site-packages/dask/local.py?line=133'>134</a>\u001b[0m     \u001b[39mreturn\u001b[39;00m q\u001b[39m.\u001b[39;49mget()\n",
      "File \u001b[0;32m~/opt/anaconda3/envs/aws/lib/python3.8/queue.py:170\u001b[0m, in \u001b[0;36mQueue.get\u001b[0;34m(self, block, timeout)\u001b[0m\n\u001b[1;32m    <a href='file:///Users/personal-macbook/opt/anaconda3/envs/aws/lib/python3.8/queue.py?line=167'>168</a>\u001b[0m \u001b[39melif\u001b[39;00m timeout \u001b[39mis\u001b[39;00m \u001b[39mNone\u001b[39;00m:\n\u001b[1;32m    <a href='file:///Users/personal-macbook/opt/anaconda3/envs/aws/lib/python3.8/queue.py?line=168'>169</a>\u001b[0m     \u001b[39mwhile\u001b[39;00m \u001b[39mnot\u001b[39;00m \u001b[39mself\u001b[39m\u001b[39m.\u001b[39m_qsize():\n\u001b[0;32m--> <a href='file:///Users/personal-macbook/opt/anaconda3/envs/aws/lib/python3.8/queue.py?line=169'>170</a>\u001b[0m         \u001b[39mself\u001b[39;49m\u001b[39m.\u001b[39;49mnot_empty\u001b[39m.\u001b[39;49mwait()\n\u001b[1;32m    <a href='file:///Users/personal-macbook/opt/anaconda3/envs/aws/lib/python3.8/queue.py?line=170'>171</a>\u001b[0m \u001b[39melif\u001b[39;00m timeout \u001b[39m<\u001b[39m \u001b[39m0\u001b[39m:\n\u001b[1;32m    <a href='file:///Users/personal-macbook/opt/anaconda3/envs/aws/lib/python3.8/queue.py?line=171'>172</a>\u001b[0m     \u001b[39mraise\u001b[39;00m \u001b[39mValueError\u001b[39;00m(\u001b[39m\"\u001b[39m\u001b[39m'\u001b[39m\u001b[39mtimeout\u001b[39m\u001b[39m'\u001b[39m\u001b[39m must be a non-negative number\u001b[39m\u001b[39m\"\u001b[39m)\n",
      "File \u001b[0;32m~/opt/anaconda3/envs/aws/lib/python3.8/threading.py:302\u001b[0m, in \u001b[0;36mCondition.wait\u001b[0;34m(self, timeout)\u001b[0m\n\u001b[1;32m    <a href='file:///Users/personal-macbook/opt/anaconda3/envs/aws/lib/python3.8/threading.py?line=299'>300</a>\u001b[0m \u001b[39mtry\u001b[39;00m:    \u001b[39m# restore state no matter what (e.g., KeyboardInterrupt)\u001b[39;00m\n\u001b[1;32m    <a href='file:///Users/personal-macbook/opt/anaconda3/envs/aws/lib/python3.8/threading.py?line=300'>301</a>\u001b[0m     \u001b[39mif\u001b[39;00m timeout \u001b[39mis\u001b[39;00m \u001b[39mNone\u001b[39;00m:\n\u001b[0;32m--> <a href='file:///Users/personal-macbook/opt/anaconda3/envs/aws/lib/python3.8/threading.py?line=301'>302</a>\u001b[0m         waiter\u001b[39m.\u001b[39;49macquire()\n\u001b[1;32m    <a href='file:///Users/personal-macbook/opt/anaconda3/envs/aws/lib/python3.8/threading.py?line=302'>303</a>\u001b[0m         gotit \u001b[39m=\u001b[39m \u001b[39mTrue\u001b[39;00m\n\u001b[1;32m    <a href='file:///Users/personal-macbook/opt/anaconda3/envs/aws/lib/python3.8/threading.py?line=303'>304</a>\u001b[0m     \u001b[39melse\u001b[39;00m:\n",
      "\u001b[0;31mKeyboardInterrupt\u001b[0m: "
     ]
    }
   ],
   "source": [
    "df22.head()"
   ]
  },
  {
   "cell_type": "code",
   "execution_count": 71,
   "metadata": {},
   "outputs": [],
   "source": [
    "# import sklearn \n",
    "# from sklearn.datasets import load_iris\n",
    "# data = load_iris()\n",
    "# df = pd.DataFrame(data['data'] , columns=data['feature_names'])\n",
    "\n",
    "# df1 = df[df.columns[:3]]\n",
    "# df2 = df[df.columns[2:]]\n",
    "# pd.concat([df1,df2],axis=1)\n"
   ]
  },
  {
   "cell_type": "code",
   "execution_count": 38,
   "metadata": {},
   "outputs": [
    {
     "name": "stdout",
     "output_type": "stream",
     "text": [
      "109\n"
     ]
    }
   ],
   "source": [
    "# from dask import delayed\n",
    "\n",
    "# def test(x): \n",
    "#     return x**3 + 1\n",
    "\n",
    "# test_delayed = delayed(test)(3)\n",
    "\n",
    "# d = 4*test_delayed - 3\n",
    "# print(d.compute())\n"
   ]
  },
  {
   "cell_type": "code",
   "execution_count": null,
   "metadata": {},
   "outputs": [],
   "source": []
  }
 ],
 "metadata": {
  "interpreter": {
   "hash": "8b8334dab9339717f727a1deaf837b322d7a41c20d15cc86be99a8e69ceec8ce"
  },
  "kernelspec": {
   "display_name": "Python 3.8.12 64-bit ('3.8.12')",
   "language": "python",
   "name": "python3"
  },
  "language_info": {
   "codemirror_mode": {
    "name": "ipython",
    "version": 3
   },
   "file_extension": ".py",
   "mimetype": "text/x-python",
   "name": "python",
   "nbconvert_exporter": "python",
   "pygments_lexer": "ipython3",
   "version": "3.8.13"
  },
  "orig_nbformat": 4
 },
 "nbformat": 4,
 "nbformat_minor": 2
}
